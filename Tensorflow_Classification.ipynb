{
 "cells": [
  {
   "cell_type": "code",
   "execution_count": 1,
   "metadata": {
    "colab": {
     "base_uri": "https://localhost:8080/",
     "height": 34
    },
    "colab_type": "code",
    "id": "N7cADFlASIn2",
    "outputId": "fb6c973f-aaa9-4ca6-eb11-326fcd9f7611"
   },
   "outputs": [
    {
     "name": "stderr",
     "output_type": "stream",
     "text": [
      "Using TensorFlow backend.\n"
     ]
    }
   ],
   "source": [
    "import pathlib\n",
    "import numpy as np\n",
    "import pandas as pd\n",
    "import tensorflow as tf\n",
    "import keras"
   ]
  },
  {
   "cell_type": "code",
   "execution_count": 9,
   "metadata": {
    "colab": {
     "base_uri": "https://localhost:8080/",
     "height": 34
    },
    "colab_type": "code",
    "id": "JyoO-iE3BI6s",
    "outputId": "05ffa6bf-5bc1-4ea4-92b2-3f5bbee07447"
   },
   "outputs": [
    {
     "data": {
      "text/plain": [
       "'/Users/mananparasher/.keras/datasets/breast-cancer-wisconsin.data'"
      ]
     },
     "execution_count": 9,
     "metadata": {},
     "output_type": "execute_result"
    }
   ],
   "source": [
    "path = keras.utils.get_file(\"breast-cancer-wisconsin.data\", \"https://archive.ics.uci.edu/ml/machine-learning-databases/breast-cancer-wisconsin/breast-cancer-wisconsin.data\")\n",
    "path"
   ]
  },
  {
   "cell_type": "code",
   "execution_count": 20,
   "metadata": {
    "colab": {},
    "colab_type": "code",
    "id": "cXW6OlIfBWYV"
   },
   "outputs": [],
   "source": [
    "column_names = ['id','Clump_Thickness','Cell_Size','Cell_Shape','Marginal_Adhesion',\n",
    "                'Epithelial_Cell_Size','Bare_Nuclei','Bland_Chromatin','Normal_Nucleoli','Mitoses','Class']   \n",
    "\n",
    "dataset = pd.read_csv(path, names=column_names,\n",
    "                      na_values = \"?\", comment='\\t',\n",
    "                      sep=\",\", skipinitialspace=True)\n",
    "\n",
    "dataset=dataset.dropna()\n",
    "dataset=dataset.drop(columns=['id'])\n"
   ]
  },
  {
   "cell_type": "code",
   "execution_count": 21,
   "metadata": {
    "colab": {
     "base_uri": "https://localhost:8080/",
     "height": 306
    },
    "colab_type": "code",
    "id": "sjrygkICIgj3",
    "outputId": "ee5553d3-c760-4f58-c4c9-16c2b00847a3"
   },
   "outputs": [
    {
     "name": "stdout",
     "output_type": "stream",
     "text": [
      "<class 'pandas.core.frame.DataFrame'>\n",
      "Int64Index: 683 entries, 0 to 698\n",
      "Data columns (total 10 columns):\n",
      "Clump_Thickness         683 non-null int64\n",
      "Cell_Size               683 non-null int64\n",
      "Cell_Shape              683 non-null int64\n",
      "Marginal_Adhesion       683 non-null int64\n",
      "Epithelial_Cell_Size    683 non-null int64\n",
      "Bare_Nuclei             683 non-null float64\n",
      "Bland_Chromatin         683 non-null int64\n",
      "Normal_Nucleoli         683 non-null int64\n",
      "Mitoses                 683 non-null int64\n",
      "Class                   683 non-null int64\n",
      "dtypes: float64(1), int64(9)\n",
      "memory usage: 58.7 KB\n"
     ]
    }
   ],
   "source": [
    "dataset.info()"
   ]
  },
  {
   "cell_type": "code",
   "execution_count": 22,
   "metadata": {},
   "outputs": [],
   "source": [
    "dataset['Class']=dataset['Class'].apply(lambda x: 0 if x==2 else 1)\n",
    "y=dataset.pop(\"Class\")\n",
    "X=dataset.copy()"
   ]
  },
  {
   "cell_type": "code",
   "execution_count": 36,
   "metadata": {},
   "outputs": [
    {
     "data": {
      "text/html": [
       "<div>\n",
       "<style scoped>\n",
       "    .dataframe tbody tr th:only-of-type {\n",
       "        vertical-align: middle;\n",
       "    }\n",
       "\n",
       "    .dataframe tbody tr th {\n",
       "        vertical-align: top;\n",
       "    }\n",
       "\n",
       "    .dataframe thead th {\n",
       "        text-align: right;\n",
       "    }\n",
       "</style>\n",
       "<table border=\"1\" class=\"dataframe\">\n",
       "  <thead>\n",
       "    <tr style=\"text-align: right;\">\n",
       "      <th></th>\n",
       "      <th>Clump_Thickness</th>\n",
       "      <th>Cell_Size</th>\n",
       "      <th>Cell_Shape</th>\n",
       "      <th>Marginal_Adhesion</th>\n",
       "      <th>Epithelial_Cell_Size</th>\n",
       "      <th>Bare_Nuclei</th>\n",
       "      <th>Bland_Chromatin</th>\n",
       "      <th>Normal_Nucleoli</th>\n",
       "      <th>Mitoses</th>\n",
       "    </tr>\n",
       "  </thead>\n",
       "  <tbody>\n",
       "    <tr>\n",
       "      <th>0</th>\n",
       "      <td>5</td>\n",
       "      <td>1</td>\n",
       "      <td>1</td>\n",
       "      <td>1</td>\n",
       "      <td>2</td>\n",
       "      <td>1.0</td>\n",
       "      <td>3</td>\n",
       "      <td>1</td>\n",
       "      <td>1</td>\n",
       "    </tr>\n",
       "    <tr>\n",
       "      <th>1</th>\n",
       "      <td>5</td>\n",
       "      <td>4</td>\n",
       "      <td>4</td>\n",
       "      <td>5</td>\n",
       "      <td>7</td>\n",
       "      <td>10.0</td>\n",
       "      <td>3</td>\n",
       "      <td>2</td>\n",
       "      <td>1</td>\n",
       "    </tr>\n",
       "    <tr>\n",
       "      <th>2</th>\n",
       "      <td>3</td>\n",
       "      <td>1</td>\n",
       "      <td>1</td>\n",
       "      <td>1</td>\n",
       "      <td>2</td>\n",
       "      <td>2.0</td>\n",
       "      <td>3</td>\n",
       "      <td>1</td>\n",
       "      <td>1</td>\n",
       "    </tr>\n",
       "    <tr>\n",
       "      <th>3</th>\n",
       "      <td>6</td>\n",
       "      <td>8</td>\n",
       "      <td>8</td>\n",
       "      <td>1</td>\n",
       "      <td>3</td>\n",
       "      <td>4.0</td>\n",
       "      <td>3</td>\n",
       "      <td>7</td>\n",
       "      <td>1</td>\n",
       "    </tr>\n",
       "    <tr>\n",
       "      <th>4</th>\n",
       "      <td>4</td>\n",
       "      <td>1</td>\n",
       "      <td>1</td>\n",
       "      <td>3</td>\n",
       "      <td>2</td>\n",
       "      <td>1.0</td>\n",
       "      <td>3</td>\n",
       "      <td>1</td>\n",
       "      <td>1</td>\n",
       "    </tr>\n",
       "    <tr>\n",
       "      <th>...</th>\n",
       "      <td>...</td>\n",
       "      <td>...</td>\n",
       "      <td>...</td>\n",
       "      <td>...</td>\n",
       "      <td>...</td>\n",
       "      <td>...</td>\n",
       "      <td>...</td>\n",
       "      <td>...</td>\n",
       "      <td>...</td>\n",
       "    </tr>\n",
       "    <tr>\n",
       "      <th>694</th>\n",
       "      <td>3</td>\n",
       "      <td>1</td>\n",
       "      <td>1</td>\n",
       "      <td>1</td>\n",
       "      <td>3</td>\n",
       "      <td>2.0</td>\n",
       "      <td>1</td>\n",
       "      <td>1</td>\n",
       "      <td>1</td>\n",
       "    </tr>\n",
       "    <tr>\n",
       "      <th>695</th>\n",
       "      <td>2</td>\n",
       "      <td>1</td>\n",
       "      <td>1</td>\n",
       "      <td>1</td>\n",
       "      <td>2</td>\n",
       "      <td>1.0</td>\n",
       "      <td>1</td>\n",
       "      <td>1</td>\n",
       "      <td>1</td>\n",
       "    </tr>\n",
       "    <tr>\n",
       "      <th>696</th>\n",
       "      <td>5</td>\n",
       "      <td>10</td>\n",
       "      <td>10</td>\n",
       "      <td>3</td>\n",
       "      <td>7</td>\n",
       "      <td>3.0</td>\n",
       "      <td>8</td>\n",
       "      <td>10</td>\n",
       "      <td>2</td>\n",
       "    </tr>\n",
       "    <tr>\n",
       "      <th>697</th>\n",
       "      <td>4</td>\n",
       "      <td>8</td>\n",
       "      <td>6</td>\n",
       "      <td>4</td>\n",
       "      <td>3</td>\n",
       "      <td>4.0</td>\n",
       "      <td>10</td>\n",
       "      <td>6</td>\n",
       "      <td>1</td>\n",
       "    </tr>\n",
       "    <tr>\n",
       "      <th>698</th>\n",
       "      <td>4</td>\n",
       "      <td>8</td>\n",
       "      <td>8</td>\n",
       "      <td>5</td>\n",
       "      <td>4</td>\n",
       "      <td>5.0</td>\n",
       "      <td>10</td>\n",
       "      <td>4</td>\n",
       "      <td>1</td>\n",
       "    </tr>\n",
       "  </tbody>\n",
       "</table>\n",
       "<p>683 rows × 9 columns</p>\n",
       "</div>"
      ],
      "text/plain": [
       "     Clump_Thickness  Cell_Size  Cell_Shape  Marginal_Adhesion  \\\n",
       "0                  5          1           1                  1   \n",
       "1                  5          4           4                  5   \n",
       "2                  3          1           1                  1   \n",
       "3                  6          8           8                  1   \n",
       "4                  4          1           1                  3   \n",
       "..               ...        ...         ...                ...   \n",
       "694                3          1           1                  1   \n",
       "695                2          1           1                  1   \n",
       "696                5         10          10                  3   \n",
       "697                4          8           6                  4   \n",
       "698                4          8           8                  5   \n",
       "\n",
       "     Epithelial_Cell_Size  Bare_Nuclei  Bland_Chromatin  Normal_Nucleoli  \\\n",
       "0                       2          1.0                3                1   \n",
       "1                       7         10.0                3                2   \n",
       "2                       2          2.0                3                1   \n",
       "3                       3          4.0                3                7   \n",
       "4                       2          1.0                3                1   \n",
       "..                    ...          ...              ...              ...   \n",
       "694                     3          2.0                1                1   \n",
       "695                     2          1.0                1                1   \n",
       "696                     7          3.0                8               10   \n",
       "697                     3          4.0               10                6   \n",
       "698                     4          5.0               10                4   \n",
       "\n",
       "     Mitoses  \n",
       "0          1  \n",
       "1          1  \n",
       "2          1  \n",
       "3          1  \n",
       "4          1  \n",
       "..       ...  \n",
       "694        1  \n",
       "695        1  \n",
       "696        2  \n",
       "697        1  \n",
       "698        1  \n",
       "\n",
       "[683 rows x 9 columns]"
      ]
     },
     "execution_count": 36,
     "metadata": {},
     "output_type": "execute_result"
    }
   ],
   "source": [
    "X"
   ]
  },
  {
   "cell_type": "code",
   "execution_count": 40,
   "metadata": {
    "colab": {},
    "colab_type": "code",
    "id": "ZFqgkeE0nt5N"
   },
   "outputs": [],
   "source": [
    "model=tf.keras.Sequential([\n",
    "      tf.keras.layers.Dense(50, activation=\"relu\", input_shape=[len(X.keys())]),\n",
    "      tf.keras.layers.Dense(2, activation=\"softmax\")\n",
    "      ])\n"
   ]
  },
  {
   "cell_type": "code",
   "execution_count": 41,
   "metadata": {
    "colab": {},
    "colab_type": "code",
    "id": "pZC2j4PaoWTj"
   },
   "outputs": [],
   "source": [
    "model.compile(optimizer='adam',\n",
    "              loss=tf.keras.losses.SparseCategoricalCrossentropy(from_logits=True),\n",
    "              metrics=['accuracy'])"
   ]
  },
  {
   "cell_type": "code",
   "execution_count": 44,
   "metadata": {
    "colab": {
     "base_uri": "https://localhost:8080/",
     "height": 374
    },
    "colab_type": "code",
    "id": "g4kaUyhCpQp9",
    "outputId": "4d043fb0-cf61-48f1-efdc-b6082bf497b0"
   },
   "outputs": [
    {
     "name": "stdout",
     "output_type": "stream",
     "text": [
      "Train on 546 samples, validate on 137 samples\n",
      "Epoch 1/10\n",
      "546/546 [==============================] - 0s 85us/sample - loss: 0.3367 - accuracy: 0.9853 - val_loss: 0.3316 - val_accuracy: 0.9854\n",
      "Epoch 2/10\n",
      "546/546 [==============================] - 0s 95us/sample - loss: 0.3361 - accuracy: 0.9835 - val_loss: 0.3320 - val_accuracy: 0.9854\n",
      "Epoch 3/10\n",
      "546/546 [==============================] - 0s 89us/sample - loss: 0.3366 - accuracy: 0.9835 - val_loss: 0.3305 - val_accuracy: 0.9854\n",
      "Epoch 4/10\n",
      "546/546 [==============================] - 0s 89us/sample - loss: 0.3371 - accuracy: 0.9780 - val_loss: 0.3324 - val_accuracy: 0.9854\n",
      "Epoch 5/10\n",
      "546/546 [==============================] - 0s 95us/sample - loss: 0.3373 - accuracy: 0.9835 - val_loss: 0.3307 - val_accuracy: 0.9854\n",
      "Epoch 6/10\n",
      "546/546 [==============================] - 0s 89us/sample - loss: 0.3367 - accuracy: 0.9799 - val_loss: 0.3315 - val_accuracy: 0.9854\n",
      "Epoch 7/10\n",
      "546/546 [==============================] - 0s 85us/sample - loss: 0.3361 - accuracy: 0.9835 - val_loss: 0.3311 - val_accuracy: 0.9854\n",
      "Epoch 8/10\n",
      "546/546 [==============================] - 0s 90us/sample - loss: 0.3356 - accuracy: 0.9817 - val_loss: 0.3320 - val_accuracy: 0.9854\n",
      "Epoch 9/10\n",
      "546/546 [==============================] - 0s 86us/sample - loss: 0.3354 - accuracy: 0.9817 - val_loss: 0.3316 - val_accuracy: 0.9854\n",
      "Epoch 10/10\n",
      "546/546 [==============================] - 0s 94us/sample - loss: 0.3362 - accuracy: 0.9799 - val_loss: 0.3320 - val_accuracy: 0.9854\n"
     ]
    },
    {
     "data": {
      "text/plain": [
       "<tensorflow.python.keras.callbacks.History at 0x13bbfa450>"
      ]
     },
     "execution_count": 44,
     "metadata": {},
     "output_type": "execute_result"
    }
   ],
   "source": [
    "model.fit(X,y,epochs=10,validation_split=0.2)"
   ]
  }
 ],
 "metadata": {
  "colab": {
   "collapsed_sections": [],
   "name": "Tensorflow Classification.ipynb",
   "provenance": []
  },
  "kernelspec": {
   "display_name": "Python 3",
   "language": "python",
   "name": "python3"
  },
  "language_info": {
   "codemirror_mode": {
    "name": "ipython",
    "version": 3
   },
   "file_extension": ".py",
   "mimetype": "text/x-python",
   "name": "python",
   "nbconvert_exporter": "python",
   "pygments_lexer": "ipython3",
   "version": "3.7.4"
  }
 },
 "nbformat": 4,
 "nbformat_minor": 1
}
